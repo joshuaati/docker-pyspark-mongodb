{
 "cells": [
  {
   "cell_type": "code",
   "execution_count": 1,
   "metadata": {},
   "outputs": [],
   "source": [
    "# Importing modules\n",
    "from pyspark.sql import SparkSession"
   ]
  },
  {
   "cell_type": "code",
   "execution_count": 2,
   "metadata": {},
   "outputs": [],
   "source": [
    "# Creating a Spark Session \n",
    "spark = SparkSession.builder\\\n",
    ".appName(\"pyspark_mongo\")\\\n",
    ".master(\"spark://spark-master:7077\")\\\n",
    ".config(\"spark.executor.memory\", \"1g\")\\\n",
    ".config(\"spark.mongodb.read.connection.uri\",\"mongodb://mongo:27017/nobel\")\\\n",
    ".config(\"spark.mongodb.write.connection.uri\",\"mongodb://mongo:27017/nobel\")\\\n",
    ".config(\"spark.jars.packages\", \"org.mongodb.spark:mongo-spark-connector_2.12:3.0.0\")\\\n",
    ".getOrCreate()"
   ]
  },
  {
   "cell_type": "code",
   "execution_count": 4,
   "metadata": {},
   "outputs": [],
   "source": [
    "# Reading the Laureates collection\n",
    "laureates = spark.read\\\n",
    "    .format(\"mongo\")\\\n",
    "    .option(\"uri\", \"mongodb://mongo:27017/nobel\")\\\n",
    "    .option(\"database\", \"nobel\")\\\n",
    "    .option(\"collection\", \"laureates\")\\\n",
    "    .load()"
   ]
  },
  {
   "cell_type": "code",
   "execution_count": 5,
   "metadata": {},
   "outputs": [],
   "source": [
    "# Reading the Prizes collection\n",
    "prizes = spark.read\\\n",
    "    .format(\"mongo\")\\\n",
    "    .option(\"uri\", \"mongodb://mongo:27017/nobel\")\\\n",
    "    .option(\"database\", \"nobel\")\\\n",
    "    .option(\"collection\", \"prizes\")\\\n",
    "    .load()"
   ]
  },
  {
   "cell_type": "code",
   "execution_count": 6,
   "metadata": {},
   "outputs": [
    {
     "name": "stdout",
     "output_type": "stream",
     "text": [
      "root\n",
      " |-- _id: struct (nullable = true)\n",
      " |    |-- oid: string (nullable = true)\n",
      " |-- born: string (nullable = true)\n",
      " |-- bornCity: string (nullable = true)\n",
      " |-- bornCountry: string (nullable = true)\n",
      " |-- bornCountryCode: string (nullable = true)\n",
      " |-- died: string (nullable = true)\n",
      " |-- diedCity: string (nullable = true)\n",
      " |-- diedCountry: string (nullable = true)\n",
      " |-- diedCountryCode: string (nullable = true)\n",
      " |-- firstname: string (nullable = true)\n",
      " |-- gender: string (nullable = true)\n",
      " |-- id: string (nullable = true)\n",
      " |-- prizes: array (nullable = true)\n",
      " |    |-- element: struct (containsNull = true)\n",
      " |    |    |-- affiliations: array (nullable = true)\n",
      " |    |    |    |-- element: struct (containsNull = true)\n",
      " |    |    |    |    |-- city: string (nullable = true)\n",
      " |    |    |    |    |-- country: string (nullable = true)\n",
      " |    |    |    |    |-- name: string (nullable = true)\n",
      " |    |    |-- category: string (nullable = true)\n",
      " |    |    |-- motivation: string (nullable = true)\n",
      " |    |    |-- overallMotivation: string (nullable = true)\n",
      " |    |    |-- share: string (nullable = true)\n",
      " |    |    |-- year: string (nullable = true)\n",
      " |-- surname: string (nullable = true)\n",
      "\n"
     ]
    }
   ],
   "source": [
    "laureates.printSchema()"
   ]
  },
  {
   "cell_type": "code",
   "execution_count": 7,
   "metadata": {},
   "outputs": [
    {
     "name": "stdout",
     "output_type": "stream",
     "text": [
      "root\n",
      " |-- _id: struct (nullable = true)\n",
      " |    |-- oid: string (nullable = true)\n",
      " |-- category: string (nullable = true)\n",
      " |-- laureates: array (nullable = true)\n",
      " |    |-- element: struct (containsNull = true)\n",
      " |    |    |-- firstname: string (nullable = true)\n",
      " |    |    |-- id: string (nullable = true)\n",
      " |    |    |-- motivation: string (nullable = true)\n",
      " |    |    |-- share: string (nullable = true)\n",
      " |    |    |-- surname: string (nullable = true)\n",
      " |-- overallMotivation: string (nullable = true)\n",
      " |-- year: string (nullable = true)\n",
      "\n"
     ]
    }
   ],
   "source": [
    "prizes.printSchema()"
   ]
  },
  {
   "cell_type": "code",
   "execution_count": null,
   "metadata": {},
   "outputs": [],
   "source": []
  }
 ],
 "metadata": {
  "kernelspec": {
   "display_name": "Python 3 (ipykernel)",
   "language": "python",
   "name": "python3"
  },
  "language_info": {
   "codemirror_mode": {
    "name": "ipython",
    "version": 3
   },
   "file_extension": ".py",
   "mimetype": "text/x-python",
   "name": "python",
   "nbconvert_exporter": "python",
   "pygments_lexer": "ipython3",
   "version": "3.10.8"
  },
  "orig_nbformat": 4
 },
 "nbformat": 4,
 "nbformat_minor": 2
}
